{
  "cells": [
    {
      "cell_type": "code",
      "execution_count": null,
      "id": "262e1a56",
      "metadata": {
        "id": "262e1a56"
      },
      "outputs": [],
      "source": [
        "!pip install ruwordnet\n",
        "!ruwordnet download\n",
        "from ruwordnet import RuWordNet"
      ]
    },
    {
      "cell_type": "code",
      "execution_count": null,
      "id": "9fd56209",
      "metadata": {
        "id": "9fd56209"
      },
      "outputs": [],
      "source": [
        "!pip uninstall spacy -y\n",
        "!pip install -U spacy>=3.0\n",
        "!python -m spacy download ru_core_news_md\n",
        "import spacy\n",
        "nlp = spacy.load('ru_core_news_md')"
      ]
    },
    {
      "cell_type": "code",
      "execution_count": null,
      "id": "7f107ffd",
      "metadata": {
        "id": "7f107ffd"
      },
      "outputs": [],
      "source": [
        "import nltk\n",
        "nltk.download ('punkt')\n",
        "from nltk.tokenize import word_tokenize\n",
        "import math"
      ]
    },
    {
      "cell_type": "code",
      "source": [
        "from google.colab import drive\n",
        "drive.mount('/content/drive')"
      ],
      "metadata": {
        "id": "F27DrqIp_Wfs"
      },
      "id": "F27DrqIp_Wfs",
      "execution_count": null,
      "outputs": []
    },
    {
      "cell_type": "code",
      "execution_count": null,
      "id": "8b675c29",
      "metadata": {
        "id": "8b675c29"
      },
      "outputs": [],
      "source": [
        "path = \"/content/drive/MyDrive/Master's Thesis/data/book1.txt\"\n",
        "text = open(path, encoding='utf-8').read()"
      ]
    },
    {
      "cell_type": "code",
      "execution_count": 8,
      "id": "575e3271",
      "metadata": {
        "id": "575e3271"
      },
      "outputs": [],
      "source": [
        "import chardet\n",
        "\n",
        "\n",
        "class SenseCounter:\n",
        "\n",
        "    def __init__(self, text):\n",
        "        self.text = text\n",
        "        self.wn = RuWordNet()\n",
        "\n",
        "    def detect_encoding(self, text):\n",
        "        result = chardet.detect(text)\n",
        "        return result['encoding']\n",
        "\n",
        "\n",
        "    def count_senses(self, product=False):\n",
        "        encoding = self.detect_encoding(self.text)\n",
        "        document = word_tokenize(self.text, language='russian', encoding=encoding)\n",
        "        dict_senses = {}\n",
        "        for word in document:\n",
        "            dict_senses[word] = []\n",
        "            for sense in self.wn.get_senses(word):\n",
        "                dict_senses[word].append(sense)\n",
        "\n",
        "        sense_amount = {}\n",
        "        for key, val in dict_senses.items():\n",
        "            sense_amount[key] = len(val)\n",
        "\n",
        "        only_multiples = {}\n",
        "        for key, val in sense_amount.items():\n",
        "            if val > 1:\n",
        "                only_multiples[key] = val\n",
        "\n",
        "        multiple_words_amount = len(only_multiples)\n",
        "        len_tokens = len(document)\n",
        "\n",
        "        if product == False:\n",
        "            print(multiple_words_amount / len_tokens)\n",
        "        else:\n",
        "            values = [val for val in sense_amount.values() if val > 1]\n",
        "            if values:\n",
        "                prod = math.prod(values)\n",
        "                print(math.log10(prod // len_tokens))\n",
        "            else:\n",
        "                print(0)\n",
        "\n",
        ""
      ]
    },
    {
      "cell_type": "code",
      "execution_count": null,
      "id": "de420ff9",
      "metadata": {
        "id": "de420ff9"
      },
      "outputs": [],
      "source": [
        "first_text = SenseCounter(text)\n",
        "first_text.count_senses(product=True)"
      ]
    },
    {
      "cell_type": "code",
      "execution_count": null,
      "id": "e82357e5",
      "metadata": {
        "id": "e82357e5"
      },
      "outputs": [],
      "source": [
        "import os\n",
        "import chardet\n",
        "from nltk.tokenize import word_tokenize\n",
        "import math\n",
        "\n",
        "nltk.download('punkt')\n",
        "\n",
        "class SenseCounter:\n",
        "\n",
        "    def __init__(self, text):\n",
        "        self.text = text\n",
        "        self.wn = RuWordNet()\n",
        "\n",
        "    def detect_encoding(self, text):\n",
        "        result = chardet.detect(text.encode())\n",
        "        return result['encoding']\n",
        "\n",
        "\n",
        "    def count_senses(self, product=False):\n",
        "        encoding = self.detect_encoding(self.text)\n",
        "        document = word_tokenize(self.text, language='russian')\n",
        "        dict_senses = {}\n",
        "        for word in document:\n",
        "            dict_senses[word] = []\n",
        "            for sense in self.wn.get_senses(word):\n",
        "                dict_senses[word].append(sense)\n",
        "\n",
        "        sense_amount = {}\n",
        "        for key, val in dict_senses.items():\n",
        "            sense_amount[key] = len(val)\n",
        "\n",
        "        only_multiples = {}\n",
        "        for key, val in sense_amount.items():\n",
        "            if val > 1:\n",
        "                only_multiples[key] = val\n",
        "\n",
        "        multiple_words_amount = len(only_multiples)\n",
        "        len_tokens = len(document)\n",
        "        print(\"=MULTIPLES=\", multiple_words_amount)\n",
        "\n",
        "        if product == False:\n",
        "            print(multiple_words_amount / len_tokens)\n",
        "        else:\n",
        "            values = [val for val in sense_amount.values() if val > 1]\n",
        "            if values:\n",
        "                prod = math.prod(values)\n",
        "                print(math.log10(prod // len_tokens))\n",
        "            else:\n",
        "                print(0)\n",
        "\n",
        "# Путь к папке с учебниками\n",
        "folder_path = \"/content/drive/MyDrive/Thesis/data/texts\"\n",
        "\n",
        "for root, dirs, files in os.walk(folder_path):\n",
        "    for filename in files:\n",
        "        if filename.endswith(\".txt\"):\n",
        "            print(\"FILE IS\", filename)\n",
        "            file_path = os.path.join(root, filename)\n",
        "            with open(file_path, 'rb') as file:\n",
        "                text = file.read().decode('utf-8')\n",
        "                init_class = SenseCounter(text)\n",
        "                init_class.count_senses(product=True)\n",
        "                init_class.count_senses(product=False)\n"
      ]
    },
    {
      "cell_type": "code",
      "source": [
        "form = [3,4,6,7,5,9,2,5,5,5,3, 4,2,7, 2, 2, 2, 7, 7, 9, 5, 5, 5, 4, 3, 4, 3, 3 ]\n",
        "multiples = [728, 1018, 1664, 2246, 1539, 1377, 596, 596, 2907, 791, 1400, 1402, 862, 503, 1610, 733, 634, 1022, 2007, 1719, 1320, 2616, 2188, 1111, 1112, 1243, 1220, 1925]\n"
      ],
      "metadata": {
        "id": "UCaIHjN3oEdz"
      },
      "id": "UCaIHjN3oEdz",
      "execution_count": 22,
      "outputs": []
    },
    {
      "cell_type": "code",
      "source": [
        "form = [3, 4, 6, 7, 5, 9, 2, 5, 5, 5, 3, 4, 2, 7, 2, 2, 2, 7, 7, 9, 5, 5, 5, 4, 3, 4, 3, 3]\n",
        "multiples = [728, 1018, 1664, 2246, 1539, 1377, 596, 596, 2907, 791, 1400, 1402, 862, 503, 1610, 733, 634, 1022, 2007, 1719, 1320, 2616, 2188, 1111, 1112, 1243, 1220, 1925]\n",
        "\n",
        "# Создание словаря для группировки классов и количества слов\n",
        "class_dict = {}\n",
        "for class_num, count in zip(form, multiples):\n",
        "    if class_num in class_dict:\n",
        "        class_dict[class_num].append(count)\n",
        "    else:\n",
        "        class_dict[class_num] = [count]\n",
        "\n",
        "# Вычисление среднего значения для каждого класса\n",
        "class_averages = {}\n",
        "for class_num, counts in class_dict.items():\n",
        "    average = sum(counts) / len(counts)\n",
        "    class_averages[class_num] = average\n",
        "\n",
        "# Вывод результатов\n",
        "for class_num, average in class_averages.items():\n",
        "    print(f\"Класс {class_num}: среднее количество слов - {average:.2f}\")\n"
      ],
      "metadata": {
        "colab": {
          "base_uri": "https://localhost:8080/"
        },
        "id": "yZ9w8yFPrBES",
        "outputId": "7523eeb8-9f36-4db5-a890-8d52b9d97121"
      },
      "id": "yZ9w8yFPrBES",
      "execution_count": 24,
      "outputs": [
        {
          "output_type": "stream",
          "name": "stdout",
          "text": [
            "Класс 3: среднее количество слов - 1277.00\n",
            "Класс 4: среднее количество слов - 1193.50\n",
            "Класс 6: среднее количество слов - 1664.00\n",
            "Класс 7: среднее количество слов - 1444.50\n",
            "Класс 5: среднее количество слов - 1708.14\n",
            "Класс 9: среднее количество слов - 1548.00\n",
            "Класс 2: среднее количество слов - 887.00\n"
          ]
        }
      ]
    },
    {
      "cell_type": "code",
      "source": [
        "import matplotlib.pyplot as plt\n",
        "\n",
        "form = [3, 4, 6, 7, 5, 9, 2, 5, 5, 5, 3, 4, 2, 7, 2, 2, 2, 7, 7, 9, 5, 5, 5, 4, 3, 4, 3, 3]\n",
        "multiples = [728, 1018, 1664, 2246, 1539, 1377, 596, 596, 2907, 791, 1400, 1402, 862, 503, 1610, 733, 634, 1022, 2007, 1719, 1320, 2616, 2188, 1111, 1112, 1243, 1220, 1925]\n",
        "\n",
        "class_dict = {}\n",
        "for class_num, count in zip(form, multiples):\n",
        "    if class_num in class_dict:\n",
        "        class_dict[class_num].append(count)\n",
        "    else:\n",
        "        class_dict[class_num] = [count]\n",
        "\n",
        "class_averages = {}\n",
        "for class_num, counts in class_dict.items():\n",
        "    average = sum(counts) / len(counts)\n",
        "    class_averages[class_num] = average\n",
        "\n",
        "# Построение столбчатой диаграммы\n",
        "class_nums = list(class_averages.keys())\n",
        "averages = list(class_averages.values())\n",
        "\n",
        "plt.bar(class_nums, averages)\n",
        "plt.xlabel('Классы')\n",
        "plt.ylabel('Среднее количество слов')\n",
        "plt.title('Среднее количество слов для каждого класса')\n",
        "plt.show()\n"
      ],
      "metadata": {
        "colab": {
          "base_uri": "https://localhost:8080/",
          "height": 472
        },
        "id": "kVQPcLKcsN4x",
        "outputId": "68653542-43d9-470f-b686-f5baac006d1d"
      },
      "id": "kVQPcLKcsN4x",
      "execution_count": 25,
      "outputs": [
        {
          "output_type": "display_data",
          "data": {
            "text/plain": [
              "<Figure size 640x480 with 1 Axes>"
            ],
            "image/png": "[encoded data removed]"
          },
          "metadata": {}
        }
      ]
    },
    {
      "cell_type": "code",
      "source": [
        "form = [3, 4, 6, 7, 5, 9, 2, 5, 5, 5, 3, 4, 2, 7, 2, 2, 2, 7, 7, 9, 5, 5, 5, 4, 3, 4, 3, 3]\n",
        "multiples = [728, 1018, 1664, 2246, 1539, 1377, 596, 596, 2907, 791, 1400, 1402, 862, 503, 1610, 733, 634, 1022, 2007, 1719, 1320, 2616, 2188, 1111, 1112, 1243, 1220, 1925]\n",
        "\n",
        "class_dict = {}\n",
        "for class_num, count in zip(form, multiples):\n",
        "    if class_num in class_dict:\n",
        "        class_dict[class_num].append(count)\n",
        "    else:\n",
        "        class_dict[class_num] = [count]\n",
        "\n",
        "class_min_max = {}\n",
        "for class_num, counts in class_dict.items():\n",
        "    class_min_max[class_num] = {\n",
        "        'минимальное количество слов': min(counts),\n",
        "        'максимальное количество слов': max(counts)\n",
        "    }\n",
        "\n",
        "# Вывод результатов\n",
        "for class_num, counts in class_min_max.items():\n",
        "    print(f\"Класс {class_num}:\")\n",
        "    print(f\"Минимальное количество слов: {counts['минимальное количество слов']}\")\n",
        "    print(f\"Максимальное количество слов: {counts['максимальное количество слов']}\")\n",
        "    print()\n"
      ],
      "metadata": {
        "colab": {
          "base_uri": "https://localhost:8080/"
        },
        "id": "HePrF5ROsRTm",
        "outputId": "ebd98f08-c63f-44ca-8c45-d0b2f3c98bd8"
      },
      "id": "HePrF5ROsRTm",
      "execution_count": 26,
      "outputs": [
        {
          "output_type": "stream",
          "name": "stdout",
          "text": [
            "Класс 3:\n",
            "Минимальное количество слов: 728\n",
            "Максимальное количество слов: 1925\n",
            "\n",
            "Класс 4:\n",
            "Минимальное количество слов: 1018\n",
            "Максимальное количество слов: 1402\n",
            "\n",
            "Класс 6:\n",
            "Минимальное количество слов: 1664\n",
            "Максимальное количество слов: 1664\n",
            "\n",
            "Класс 7:\n",
            "Минимальное количество слов: 503\n",
            "Максимальное количество слов: 2246\n",
            "\n",
            "Класс 5:\n",
            "Минимальное количество слов: 596\n",
            "Максимальное количество слов: 2907\n",
            "\n",
            "Класс 9:\n",
            "Минимальное количество слов: 1377\n",
            "Максимальное количество слов: 1719\n",
            "\n",
            "Класс 2:\n",
            "Минимальное количество слов: 596\n",
            "Максимальное количество слов: 1610\n",
            "\n"
          ]
        }
      ]
    },
    {
      "cell_type": "code",
      "source": [
        "import matplotlib.pyplot as plt\n",
        "\n",
        "form = [3, 4, 6, 7, 5, 9, 2, 5, 5, 5, 3, 4, 2, 7, 2, 2, 2, 7, 7, 9, 5, 5, 5, 4, 3, 4, 3, 3]\n",
        "multiples = [728, 1018, 1664, 2246, 1539, 1377, 596, 596, 2907, 791, 1400, 1402, 862, 503, 1610, 733, 634, 1022, 2007, 1719, 1320, 2616, 2188, 1111, 1112, 1243, 1220, 1925]\n",
        "\n",
        "class_dict = {}\n",
        "for class_num, count in zip(form, multiples):\n",
        "    if class_num in class_dict:\n",
        "        class_dict[class_num].append(count)\n",
        "    else:\n",
        "        class_dict[class_num] = [count]\n",
        "\n",
        "class_min_max = {}\n",
        "for class_num, counts in class_dict.items():\n",
        "    class_min_max[class_num] = {\n",
        "        'минимальное количество слов': min(counts),\n",
        "        'максимальное количество слов': max(counts)\n",
        "    }\n",
        "\n",
        "# Создание списков для построения графика\n",
        "class_nums = list(class_min_max.keys())\n",
        "min_counts = [counts['минимальное количество слов'] for counts in class_min_max.values()]\n",
        "max_counts = [counts['максимальное количество слов'] for counts in class_min_max.values()]\n",
        "\n",
        "# Построение графика\n",
        "width = 0.35  # Ширина столбцов\n",
        "fig, ax = plt.subplots()\n",
        "bar1 = ax.bar(class_nums, min_counts, width, label='Минимальное количество слов')\n",
        "bar2 = ax.bar(class_nums, max_counts, width, label='Максимальное количество слов', bottom=min_counts)\n",
        "\n",
        "ax.set_xlabel('Классы')\n",
        "ax.set_ylabel('Количество слов')\n",
        "ax.set_title('Минимальное и максимальное количество слов для каждого класса')\n",
        "ax.legend()\n",
        "\n",
        "plt.show()\n"
      ],
      "metadata": {
        "colab": {
          "base_uri": "https://localhost:8080/",
          "height": 472
        },
        "id": "3qyDBPmmsjY7",
        "outputId": "67baf4a5-e377-40e6-d710-8e38ecec9db1"
      },
      "id": "3qyDBPmmsjY7",
      "execution_count": 27,
      "outputs": [
        {
          "output_type": "display_data",
          "data": {
            "text/plain": [
              "<Figure size 640x480 with 1 Axes>"
            ],
            "image/png": "[encoded data removed]"
          },
          "metadata": {}
        }
      ]
    }
  ],
  "metadata": {
    "kernelspec": {
      "display_name": "Python 3 (ipykernel)",
      "language": "python",
      "name": "python3"
    },
    "language_info": {
      "codemirror_mode": {
        "name": "ipython",
        "version": 3
      },
      "file_extension": ".py",
      "mimetype": "text/x-python",
      "name": "python",
      "nbconvert_exporter": "python",
      "pygments_lexer": "ipython3",
      "version": "3.9.13"
    },
    "colab": {
      "provenance": []
    }
  },
  "nbformat": 4,
  "nbformat_minor": 5
}
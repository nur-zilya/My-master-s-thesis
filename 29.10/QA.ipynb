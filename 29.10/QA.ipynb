{
  "nbformat": 4,
  "nbformat_minor": 0,
  "metadata": {
    "colab": {
      "provenance": []
    },
    "kernelspec": {
      "name": "python3",
      "display_name": "Python 3"
    },
    "language_info": {
      "name": "python"
    }
  },
  "cells": [
    {
      "cell_type": "code",
      "execution_count": 1,
      "metadata": {
        "colab": {
          "base_uri": "https://localhost:8080/"
        },
        "id": "Ket-3H2tewNg",
        "outputId": "9a4592e2-e9e3-4e85-bd44-dd4f522d3131"
      },
      "outputs": [
        {
          "output_type": "stream",
          "name": "stdout",
          "text": [
            "Mounted at /content/drive\n"
          ]
        }
      ],
      "source": [
        "from google.colab import drive\n",
        "drive.mount('/content/drive')"
      ]
    },
    {
      "cell_type": "code",
      "source": [
        "!pip install transformers"
      ],
      "metadata": {
        "id": "xepH7vU8-P4v"
      },
      "execution_count": null,
      "outputs": []
    },
    {
      "cell_type": "code",
      "source": [
        "test_data = pd.read_excel('/content/drive/MyDrive/Thesis/test.xlsx')\n",
        "test_data.head()\n"
      ],
      "metadata": {
        "id": "fBGAF-w8ENQ5"
      },
      "execution_count": null,
      "outputs": []
    },
    {
      "cell_type": "code",
      "source": [
        "def tokenize_and_prepare(text):\n",
        "    tokens = tokenizer(text, padding=True, truncation=True, return_tensors='pt')\n",
        "    return {'input_ids': tokens['input_ids'], 'attention_mask': tokens['attention_mask']}, text\n"
      ],
      "metadata": {
        "id": "2kGo5dSV-xDe"
      },
      "execution_count": null,
      "outputs": []
    },
    {
      "cell_type": "code",
      "source": [
        "!pip install torch"
      ],
      "metadata": {
        "id": "SrKAIhWNaRZa"
      },
      "execution_count": null,
      "outputs": []
    },
    {
      "cell_type": "code",
      "source": [
        "import matplotlib.pyplot as plt\n",
        "import pandas as pd\n",
        "import torch\n",
        "from torch.utils.data import DataLoader, TensorDataset\n",
        "from transformers import AutoTokenizer, AutoModelForSequenceClassification\n",
        "\n",
        "data = pd.read_excel('/content/drive/MyDrive/Thesis/data.xlsx')\n",
        "data = data[['paragraph', '0-5']]\n",
        "\n",
        "import string\n",
        "import nltk\n",
        "from nltk.corpus import stopwords\n",
        "from nltk.corpus import stopwords\n",
        "from nltk.tokenize import word_tokenize\n",
        "from nltk.stem import WordNetLemmatizer\n",
        "\n",
        "nltk.download('wordnet')\n",
        "nltk.download('stopwords')\n",
        "nltk.download('punkt')\n",
        "\n",
        "# Приведение к нижнему регистру\n",
        "data['paragraph'] = data['paragraph'].str.lower()\n",
        "\n",
        "# Удаление стоп-слов\n",
        "stop_words = set(stopwords.words('russian'))\n",
        "data['paragraph'] = data['paragraph'].apply(lambda x: ' '.join([word for word in x.split() if word not in stop_words]))\n",
        "\n",
        "# Лемматизация\n",
        "lemmatizer = WordNetLemmatizer()\n",
        "data['paragraph'] = data['paragraph'].apply(lambda x: ' '.join([lemmatizer.lemmatize(word) for word in x.split()]))\n",
        "\n",
        "# Удаление пунктуации и специальных символов\n",
        "data['paragraph'] = data['paragraph'].apply(lambda x: x.translate(str.maketrans('', '', string.punctuation)))\n",
        "\n",
        "model_name = \"bert-base-uncased\"  # You can change this to your desired model\n",
        "tokenizer = AutoTokenizer.from_pretrained(model_name)\n",
        "model = AutoModelForSequenceClassification.from_pretrained(model_name)\n",
        "\n",
        "def tokenize_and_prepare(row):\n",
        "    text = row['paragraph']\n",
        "    complexity = row['0-5']\n",
        "    tokens = tokenizer(text, padding=True, truncation=True, return_tensors='pt')\n",
        "    return {'input_ids': tokens['input_ids'], 'attention_mask': tokens['attention_mask']}, complexity\n",
        "\n"
      ],
      "metadata": {
        "id": "Dlms-YQrQZAC"
      },
      "execution_count": null,
      "outputs": []
    },
    {
      "cell_type": "code",
      "source": [
        "\n",
        "tokenized_data = data.apply(tokenize_and_prepare, axis=1)\n",
        "\n",
        "max_length = 256\n",
        "\n",
        "input_ids_list = []\n",
        "attention_mask_list = []\n",
        "\n",
        "for item in tokenized_data:\n",
        "    input_ids = item[0]['input_ids']\n",
        "    attention_mask = item[0]['attention_mask']\n",
        "\n",
        "    if input_ids.shape[1] > max_length:\n",
        "        input_ids = input_ids[:, :max_length]\n",
        "        attention_mask = attention_mask[:, :max_length]\n",
        "    elif input_ids.shape[1] < max_length:\n",
        "        padding_length = max_length - input_ids.shape[1]\n",
        "        input_ids = torch.cat([input_ids, torch.zeros((1, padding_length), dtype=torch.long)], dim=1)\n",
        "        attention_mask = torch.cat([attention_mask, torch.zeros((1, padding_length), dtype=torch.long)], dim=1)\n",
        "    input_ids_list.append(input_ids)\n",
        "    attention_mask_list.append(attention_mask)\n",
        "inputs_dict = {\n",
        "    'input_ids': torch.stack(input_ids_list),\n",
        "    'attention_mask': torch.stack(attention_mask_list)\n",
        "}\n",
        "labels = torch.tensor([item[1] for item in tokenized_data], dtype=torch.float32)\n",
        "input_ids_tensor = inputs_dict['input_ids']\n",
        "attention_mask_tensor = inputs_dict['attention_mask']\n",
        "tensor_list = [input_ids_tensor, attention_mask_tensor, labels]\n",
        "dataset = TensorDataset(*tensor_list)\n",
        "train_dataloader = DataLoader(dataset, batch_size=32, shuffle=True)\n",
        "optimizer = torch.optim.AdamW(model.parameters(), lr=2e-5, weight_decay=1e-4)\n",
        "loss_fn = torch.nn.MSELoss()\n",
        "train_losses = []\n",
        "for epoch in range(5):\n",
        "    total_loss = 0\n",
        "    for batch in dataset:\n",
        "        optimizer.zero_grad()\n",
        "        input_ids = batch[0]\n",
        "        attention_mask = batch[1]\n",
        "        output = model(input_ids, attention_mask=attention_mask)\n",
        "        loss = loss_fn(output.logits.squeeze(), batch[2])\n",
        "        loss.backward()\n",
        "        optimizer.step()\n",
        "        total_loss += loss.item()\n",
        "    avg_loss = total_loss / len(dataset)\n",
        "    train_losses.append(avg_loss)\n",
        "    print(f\"Epoch {epoch + 1}: Average Loss: {avg_loss}\")\n",
        "\n",
        "plt.plot(range(1, len(train_losses) + 1), train_losses)\n",
        "plt.xlabel('Epochs')\n",
        "plt.ylabel('Mean Squared Error (MSE)')\n",
        "plt.title('Training Loss Curve')\n",
        "plt.show()\n"
      ],
      "metadata": {
        "colab": {
          "base_uri": "https://localhost:8080/",
          "height": 617
        },
        "id": "z9ZpNsOn0KkD",
        "outputId": "a18a172d-6d7b-4554-8203-e8f465022da6"
      },
      "execution_count": null,
      "outputs": [
        {
          "output_type": "stream",
          "name": "stderr",
          "text": [
            "/usr/local/lib/python3.10/dist-packages/torch/nn/modules/loss.py:536: UserWarning: Using a target size (torch.Size([])) that is different to the input size (torch.Size([2])). This will likely lead to incorrect results due to broadcasting. Please ensure they have the same size.\n",
            "  return F.mse_loss(input, target, reduction=self.reduction)\n"
          ]
        },
        {
          "output_type": "stream",
          "name": "stdout",
          "text": [
            "Epoch 1: Average Loss: 0.9284811642810253\n",
            "Epoch 2: Average Loss: 0.6768670029668753\n",
            "Epoch 3: Average Loss: 0.6455145152702901\n",
            "Epoch 4: Average Loss: 0.6320027249978449\n",
            "Epoch 5: Average Loss: 0.6294913658392434\n"
          ]
        },
        {
          "output_type": "display_data",
          "data": {
            "text/plain": [
              "<Figure size 640x480 with 1 Axes>"
            ],
            "image/png": "[encoded data removed]"
          },
          "metadata": {}
        }
      ]
    },
    {
      "cell_type": "code",
      "source": [
        "test_paragraphs = test_data['paragraph']\n",
        "test_labels = test_data['0-5']\n",
        "\n",
        "test_tokenized_data = test_paragraphs.apply(tokenize_and_prepare)\n",
        "test_max_length = 256\n",
        "\n",
        "test_input_ids_list = []\n",
        "test_attention_mask_list = []\n",
        "\n",
        "for item in test_tokenized_data:\n",
        "    input_ids = item[0]['input_ids']\n",
        "    attention_mask = item[0]['attention_mask']\n",
        "\n",
        "    if input_ids.shape[1] > test_max_length:\n",
        "        input_ids = input_ids[:, :test_max_length]\n",
        "        attention_mask = attention_mask[:, :test_max_length]\n",
        "    elif input_ids.shape[1] < test_max_length:\n",
        "        padding_length = test_max_length - input_ids.shape[1]\n",
        "        input_ids = torch.cat([input_ids, torch.zeros((1, padding_length), dtype=torch.long)], dim=1)\n",
        "        attention_mask = torch.cat([attention_mask, torch.zeros((1, padding_length), dtype=torch.long)], dim=1)\n",
        "\n",
        "    test_input_ids_list.append(input_ids)\n",
        "    test_attention_mask_list.append(attention_mask)\n",
        "\n",
        "test_inputs_dict = {\n",
        "    'input_ids': torch.stack(test_input_ids_list).squeeze(),\n",
        "    'attention_mask': torch.stack(test_attention_mask_list).squeeze()\n",
        "}\n",
        "\n",
        "with torch.no_grad():\n",
        "    test_output = model(**test_inputs_dict)\n",
        "    test_predictions = test_output.logits.squeeze()\n",
        "    test_predictions = test_predictions.mean(dim=1).squeeze()\n",
        "\n"
      ],
      "metadata": {
        "id": "O6GDenA-06Xe"
      },
      "execution_count": null,
      "outputs": []
    },
    {
      "cell_type": "code",
      "source": [
        "from sklearn.metrics import mean_squared_error\n",
        "\n",
        "mse = mean_squared_error(test_labels, test_predictions)\n",
        "print(f\"Mean Squared Error on Test Data: {mse}\")\n"
      ],
      "metadata": {
        "id": "Kq1KAiJB09Hy"
      },
      "execution_count": null,
      "outputs": []
    },
    {
      "cell_type": "code",
      "source": [
        "from sklearn.metrics import r2_score\n",
        "\n",
        "r_squared = r2_score(test_labels, test_predictions)\n",
        "print(f\"R-squared: {r_squared}\")\n"
      ],
      "metadata": {
        "id": "xzHboyhy0_wG"
      },
      "execution_count": null,
      "outputs": []
    },
    {
      "cell_type": "code",
      "source": [
        "from sklearn.metrics import mean_absolute_error\n",
        "\n",
        "mae = mean_absolute_error(test_labels, test_predictions)\n",
        "print(f\"Mean Absolute Error (MAE) on Test Data: {mae}\")\n"
      ],
      "metadata": {
        "id": "iBiqz-671CZB"
      },
      "execution_count": null,
      "outputs": []
    },
    {
      "cell_type": "code",
      "source": [
        "model_directory = '/content/drive/MyDrive/Thesis/best model'\n",
        "\n",
        "model.save_pretrained(model_directory)\n",
        "tokenizer.save_pretrained(model_directory)\n"
      ],
      "metadata": {
        "id": "eyLnYzQD1ORN"
      },
      "execution_count": null,
      "outputs": []
    },
    {
      "cell_type": "code",
      "source": [
        "import string\n",
        "from nltk.corpus import stopwords\n",
        "from nltk.stem import WordNetLemmatizer\n",
        "\n",
        "# Приведение к нижнему регистру\n",
        "data['paragraph'] = data['paragraph'].str.lower()\n",
        "\n",
        "# Удаление стоп-слов\n",
        "stop_words = set(stopwords.words('english'))\n",
        "data['paragraph'] = data['paragraph'].apply(lambda x: ' '.join([word for word in x.split() if word not in stop_words]))\n",
        "\n",
        "# Лемматизация\n",
        "lemmatizer = WordNetLemmatizer()\n",
        "data['paragraph'] = data['paragraph'].apply(lambda x: ' '.join([lemmatizer.lemmatize(word) for word in x.split()]))\n",
        "\n",
        "# Удаление пунктуации и специальных символов\n",
        "data['paragraph'] = data['paragraph'].apply(lambda x: x.translate(str.maketrans('', '', string.punctuation)))\n"
      ],
      "metadata": {
        "id": "skkBY7-LgRVa"
      },
      "execution_count": null,
      "outputs": []
    },
    {
      "cell_type": "code",
      "source": [
        "from nltk.corpus import stopwords\n",
        "from nltk.tokenize import word_tokenize\n",
        "\n",
        "# Загрузка списка стоп-слов для русского языка\n",
        "stop_words = set(stopwords.words('russian'))\n",
        "\n",
        "word_tokens = word_tokenize(text, language='russian')\n",
        "filtered_text = [word for word in word_tokens if word.lower() not in stop_words]\n",
        "\n",
        "# Преобразование обратно в текст\n",
        "filtered_text = ' '.join(filtered_text)\n",
        "print(filtered_text)\n"
      ],
      "metadata": {
        "id": "DhS82E4DgSJu"
      },
      "execution_count": null,
      "outputs": []
    },
    {
      "cell_type": "code",
      "source": [],
      "metadata": {
        "id": "54rGgEjcTexf"
      },
      "execution_count": null,
      "outputs": []
    },
    {
      "cell_type": "code",
      "source": [],
      "metadata": {
        "id": "7oj7osCDTezd"
      },
      "execution_count": null,
      "outputs": []
    },
    {
      "cell_type": "markdown",
      "source": [
        "КОРРЕЛЯЦИЯ КЛАСС - ОЦЕНКА GPT"
      ],
      "metadata": {
        "id": "K30DP6rdTgBm"
      }
    },
    {
      "cell_type": "code",
      "source": [
        "import pandas as pd\n",
        "\n",
        "data = pd.read_excel('/content/drive/MyDrive/Thesis/data.xlsx')\n",
        "data = data[['0-5', 'form']]\n",
        "data.head()"
      ],
      "metadata": {
        "colab": {
          "base_uri": "https://localhost:8080/",
          "height": 206
        },
        "id": "ZseBMusaTe53",
        "outputId": "9237e75f-adb7-4179-c215-0005e258a0bb"
      },
      "execution_count": 3,
      "outputs": [
        {
          "output_type": "execute_result",
          "data": {
            "text/plain": [
              "   0-5  form\n",
              "0    2     5\n",
              "1    2     5\n",
              "2    3     5\n",
              "3    1     5\n",
              "4    2     5"
            ],
            "text/html": [
              "\n",
              "  <div id=\"df-5afd52c8-378c-48a4-8a87-5a2328345954\" class=\"colab-df-container\">\n",
              "    <div>\n",
              "<style scoped>\n",
              "    .dataframe tbody tr th:only-of-type {\n",
              "        vertical-align: middle;\n",
              "    }\n",
              "\n",
              "    .dataframe tbody tr th {\n",
              "        vertical-align: top;\n",
              "    }\n",
              "\n",
              "    .dataframe thead th {\n",
              "        text-align: right;\n",
              "    }\n",
              "</style>\n",
              "<table border=\"1\" class=\"dataframe\">\n",
              "  <thead>\n",
              "    <tr style=\"text-align: right;\">\n",
              "      <th></th>\n",
              "      <th>0-5</th>\n",
              "      <th>form</th>\n",
              "    </tr>\n",
              "  </thead>\n",
              "  <tbody>\n",
              "    <tr>\n",
              "      <th>0</th>\n",
              "      <td>2</td>\n",
              "      <td>5</td>\n",
              "    </tr>\n",
              "    <tr>\n",
              "      <th>1</th>\n",
              "      <td>2</td>\n",
              "      <td>5</td>\n",
              "    </tr>\n",
              "    <tr>\n",
              "      <th>2</th>\n",
              "      <td>3</td>\n",
              "      <td>5</td>\n",
              "    </tr>\n",
              "    <tr>\n",
              "      <th>3</th>\n",
              "      <td>1</td>\n",
              "      <td>5</td>\n",
              "    </tr>\n",
              "    <tr>\n",
              "      <th>4</th>\n",
              "      <td>2</td>\n",
              "      <td>5</td>\n",
              "    </tr>\n",
              "  </tbody>\n",
              "</table>\n",
              "</div>\n",
              "    <div class=\"colab-df-buttons\">\n",
              "\n",
              "  <div class=\"colab-df-container\">\n",
              "    <button class=\"colab-df-convert\" onclick=\"convertToInteractive('df-5afd52c8-378c-48a4-8a87-5a2328345954')\"\n",
              "            title=\"Convert this dataframe to an interactive table.\"\n",
              "            style=\"display:none;\">\n",
              "\n",
              "  <svg xmlns=\"http://www.w3.org/2000/svg\" height=\"24px\" viewBox=\"0 -960 960 960\">\n",
              "    <path d=\"M120-120v-720h720v720H120Zm60-500h600v-160H180v160Zm220 220h160v-160H400v160Zm0 220h160v-160H400v160ZM180-400h160v-160H180v160Zm440 0h160v-160H620v160ZM180-180h160v-160H180v160Zm440 0h160v-160H620v160Z\"/>\n",
              "  </svg>\n",
              "    </button>\n",
              "\n",
              "  <style>\n",
              "    .colab-df-container {\n",
              "      display:flex;\n",
              "      gap: 12px;\n",
              "    }\n",
              "\n",
              "    .colab-df-convert {\n",
              "      background-color: #E8F0FE;\n",
              "      border: none;\n",
              "      border-radius: 50%;\n",
              "      cursor: pointer;\n",
              "      display: none;\n",
              "      fill: #1967D2;\n",
              "      height: 32px;\n",
              "      padding: 0 0 0 0;\n",
              "      width: 32px;\n",
              "    }\n",
              "\n",
              "    .colab-df-convert:hover {\n",
              "      background-color: #E2EBFA;\n",
              "      box-shadow: 0px 1px 2px rgba(60, 64, 67, 0.3), 0px 1px 3px 1px rgba(60, 64, 67, 0.15);\n",
              "      fill: #174EA6;\n",
              "    }\n",
              "\n",
              "    .colab-df-buttons div {\n",
              "      margin-bottom: 4px;\n",
              "    }\n",
              "\n",
              "    [theme=dark] .colab-df-convert {\n",
              "      background-color: #3B4455;\n",
              "      fill: #D2E3FC;\n",
              "    }\n",
              "\n",
              "    [theme=dark] .colab-df-convert:hover {\n",
              "      background-color: #434B5C;\n",
              "      box-shadow: 0px 1px 3px 1px rgba(0, 0, 0, 0.15);\n",
              "      filter: drop-shadow(0px 1px 2px rgba(0, 0, 0, 0.3));\n",
              "      fill: #FFFFFF;\n",
              "    }\n",
              "  </style>\n",
              "\n",
              "    <script>\n",
              "      const buttonEl =\n",
              "        document.querySelector('#df-5afd52c8-378c-48a4-8a87-5a2328345954 button.colab-df-convert');\n",
              "      buttonEl.style.display =\n",
              "        google.colab.kernel.accessAllowed ? 'block' : 'none';\n",
              "\n",
              "      async function convertToInteractive(key) {\n",
              "        const element = document.querySelector('#df-5afd52c8-378c-48a4-8a87-5a2328345954');\n",
              "        const dataTable =\n",
              "          await google.colab.kernel.invokeFunction('convertToInteractive',\n",
              "                                                    [key], {});\n",
              "        if (!dataTable) return;\n",
              "\n",
              "        const docLinkHtml = 'Like what you see? Visit the ' +\n",
              "          '<a target=\"_blank\" href=https://colab.research.google.com/notebooks/data_table.ipynb>data table notebook</a>'\n",
              "          + ' to learn more about interactive tables.';\n",
              "        element.innerHTML = '';\n",
              "        dataTable['output_type'] = 'display_data';\n",
              "        await google.colab.output.renderOutput(dataTable, element);\n",
              "        const docLink = document.createElement('div');\n",
              "        docLink.innerHTML = docLinkHtml;\n",
              "        element.appendChild(docLink);\n",
              "      }\n",
              "    </script>\n",
              "  </div>\n",
              "\n",
              "\n",
              "<div id=\"df-7fc9764e-262d-4230-b866-b5c89067e2a6\">\n",
              "  <button class=\"colab-df-quickchart\" onclick=\"quickchart('df-7fc9764e-262d-4230-b866-b5c89067e2a6')\"\n",
              "            title=\"Suggest charts.\"\n",
              "            style=\"display:none;\">\n",
              "\n",
              "<svg xmlns=\"http://www.w3.org/2000/svg\" height=\"24px\"viewBox=\"0 0 24 24\"\n",
              "     width=\"24px\">\n",
              "    <g>\n",
              "        <path d=\"M19 3H5c-1.1 0-2 .9-2 2v14c0 1.1.9 2 2 2h14c1.1 0 2-.9 2-2V5c0-1.1-.9-2-2-2zM9 17H7v-7h2v7zm4 0h-2V7h2v10zm4 0h-2v-4h2v4z\"/>\n",
              "    </g>\n",
              "</svg>\n",
              "  </button>\n",
              "\n",
              "<style>\n",
              "  .colab-df-quickchart {\n",
              "      --bg-color: #E8F0FE;\n",
              "      --fill-color: #1967D2;\n",
              "      --hover-bg-color: #E2EBFA;\n",
              "      --hover-fill-color: #174EA6;\n",
              "      --disabled-fill-color: #AAA;\n",
              "      --disabled-bg-color: #DDD;\n",
              "  }\n",
              "\n",
              "  [theme=dark] .colab-df-quickchart {\n",
              "      --bg-color: #3B4455;\n",
              "      --fill-color: #D2E3FC;\n",
              "      --hover-bg-color: #434B5C;\n",
              "      --hover-fill-color: #FFFFFF;\n",
              "      --disabled-bg-color: #3B4455;\n",
              "      --disabled-fill-color: #666;\n",
              "  }\n",
              "\n",
              "  .colab-df-quickchart {\n",
              "    background-color: var(--bg-color);\n",
              "    border: none;\n",
              "    border-radius: 50%;\n",
              "    cursor: pointer;\n",
              "    display: none;\n",
              "    fill: var(--fill-color);\n",
              "    height: 32px;\n",
              "    padding: 0;\n",
              "    width: 32px;\n",
              "  }\n",
              "\n",
              "  .colab-df-quickchart:hover {\n",
              "    background-color: var(--hover-bg-color);\n",
              "    box-shadow: 0 1px 2px rgba(60, 64, 67, 0.3), 0 1px 3px 1px rgba(60, 64, 67, 0.15);\n",
              "    fill: var(--button-hover-fill-color);\n",
              "  }\n",
              "\n",
              "  .colab-df-quickchart-complete:disabled,\n",
              "  .colab-df-quickchart-complete:disabled:hover {\n",
              "    background-color: var(--disabled-bg-color);\n",
              "    fill: var(--disabled-fill-color);\n",
              "    box-shadow: none;\n",
              "  }\n",
              "\n",
              "  .colab-df-spinner {\n",
              "    border: 2px solid var(--fill-color);\n",
              "    border-color: transparent;\n",
              "    border-bottom-color: var(--fill-color);\n",
              "    animation:\n",
              "      spin 1s steps(1) infinite;\n",
              "  }\n",
              "\n",
              "  @keyframes spin {\n",
              "    0% {\n",
              "      border-color: transparent;\n",
              "      border-bottom-color: var(--fill-color);\n",
              "      border-left-color: var(--fill-color);\n",
              "    }\n",
              "    20% {\n",
              "      border-color: transparent;\n",
              "      border-left-color: var(--fill-color);\n",
              "      border-top-color: var(--fill-color);\n",
              "    }\n",
              "    30% {\n",
              "      border-color: transparent;\n",
              "      border-left-color: var(--fill-color);\n",
              "      border-top-color: var(--fill-color);\n",
              "      border-right-color: var(--fill-color);\n",
              "    }\n",
              "    40% {\n",
              "      border-color: transparent;\n",
              "      border-right-color: var(--fill-color);\n",
              "      border-top-color: var(--fill-color);\n",
              "    }\n",
              "    60% {\n",
              "      border-color: transparent;\n",
              "      border-right-color: var(--fill-color);\n",
              "    }\n",
              "    80% {\n",
              "      border-color: transparent;\n",
              "      border-right-color: var(--fill-color);\n",
              "      border-bottom-color: var(--fill-color);\n",
              "    }\n",
              "    90% {\n",
              "      border-color: transparent;\n",
              "      border-bottom-color: var(--fill-color);\n",
              "    }\n",
              "  }\n",
              "</style>\n",
              "\n",
              "  <script>\n",
              "    async function quickchart(key) {\n",
              "      const quickchartButtonEl =\n",
              "        document.querySelector('#' + key + ' button');\n",
              "      quickchartButtonEl.disabled = true;  // To prevent multiple clicks.\n",
              "      quickchartButtonEl.classList.add('colab-df-spinner');\n",
              "      try {\n",
              "        const charts = await google.colab.kernel.invokeFunction(\n",
              "            'suggestCharts', [key], {});\n",
              "      } catch (error) {\n",
              "        console.error('Error during call to suggestCharts:', error);\n",
              "      }\n",
              "      quickchartButtonEl.classList.remove('colab-df-spinner');\n",
              "      quickchartButtonEl.classList.add('colab-df-quickchart-complete');\n",
              "    }\n",
              "    (() => {\n",
              "      let quickchartButtonEl =\n",
              "        document.querySelector('#df-7fc9764e-262d-4230-b866-b5c89067e2a6 button');\n",
              "      quickchartButtonEl.style.display =\n",
              "        google.colab.kernel.accessAllowed ? 'block' : 'none';\n",
              "    })();\n",
              "  </script>\n",
              "</div>\n",
              "    </div>\n",
              "  </div>\n"
            ]
          },
          "metadata": {},
          "execution_count": 3
        }
      ]
    },
    {
      "cell_type": "code",
      "source": [
        "# вычисляем корреляцию (Спирмен)\n",
        "import scipy\n",
        "from scipy.stats import pearsonr\n",
        "from scipy.stats import spearmanr\n",
        "\n",
        "asses =  data['0-5']\n",
        "\n",
        "form = data['form']\n",
        "\n",
        "corr, p_value = spearmanr(asses, form)"
      ],
      "metadata": {
        "id": "Z7etNIo1To0I"
      },
      "execution_count": 4,
      "outputs": []
    },
    {
      "cell_type": "code",
      "source": [
        "print(f\"Spearman correlation coefficient: {corr}\")\n",
        "print(f\"P-value: {p_value}\")\n"
      ],
      "metadata": {
        "colab": {
          "base_uri": "https://localhost:8080/"
        },
        "id": "nauOPV1yUREe",
        "outputId": "25cec2df-4c56-4c90-c945-ee0908e64fdc"
      },
      "execution_count": 5,
      "outputs": [
        {
          "output_type": "stream",
          "name": "stdout",
          "text": [
            "Spearman correlation coefficient: 0.32115709234197504\n",
            "P-value: 0.00010319304143707395\n"
          ]
        }
      ]
    },
    {
      "cell_type": "code",
      "source": [
        "import matplotlib.pyplot as plt\n",
        "\n",
        "plt.plot(form, asses, 'o')\n",
        "plt.xlabel('Класс')\n",
        "plt.ylabel('Оценка чата GPT')\n",
        "plt.title('')\n",
        "plt.show()\n"
      ],
      "metadata": {
        "colab": {
          "base_uri": "https://localhost:8080/",
          "height": 449
        },
        "id": "V4r1uiyqUZ9k",
        "outputId": "a2a972a1-a63b-4b7d-aa06-0259d809d239"
      },
      "execution_count": 6,
      "outputs": [
        {
          "output_type": "display_data",
          "data": {
            "text/plain": [
              "<Figure size 640x480 with 1 Axes>"
            ],
            "image/png": "[encoded data removed]"
          },
          "metadata": {}
        }
      ]
    }
  ]
}
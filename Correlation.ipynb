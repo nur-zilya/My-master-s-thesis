{
  "cells": [
    {
      "cell_type": "code",
      "execution_count": null,
      "id": "262e1a56",
      "metadata": {
        "id": "262e1a56"
      },
      "outputs": [],
      "source": [
        "!pip install ruwordnet\n",
        "!ruwordnet download\n",
        "from ruwordnet import RuWordNet"
      ]
    },
    {
      "cell_type": "code",
      "execution_count": null,
      "id": "9fd56209",
      "metadata": {
        "id": "9fd56209"
      },
      "outputs": [],
      "source": [
        "!pip uninstall spacy -y\n",
        "!pip install -U spacy>=3.0\n",
        "!python -m spacy download ru_core_news_md\n",
        "import spacy\n",
        "nlp = spacy.load('ru_core_news_md')"
      ]
    },
    {
      "cell_type": "code",
      "execution_count": null,
      "id": "7f107ffd",
      "metadata": {
        "colab": {
          "base_uri": "https://localhost:8080/"
        },
        "id": "7f107ffd",
        "outputId": "21215d6b-122b-42ce-ec84-2d54d4990b84"
      },
      "outputs": [
        {
          "output_type": "stream",
          "name": "stderr",
          "text": [
            "[nltk_data] Downloading package punkt to /root/nltk_data...\n",
            "[nltk_data]   Unzipping tokenizers/punkt.zip.\n"
          ]
        }
      ],
      "source": [
        "import nltk\n",
        "nltk.download ('punkt')\n",
        "from nltk.tokenize import word_tokenize\n",
        "import math"
      ]
    },
    {
      "cell_type": "code",
      "source": [
        "from google.colab import drive\n",
        "drive.mount('/content/drive')"
      ],
      "metadata": {
        "colab": {
          "base_uri": "https://localhost:8080/"
        },
        "id": "F27DrqIp_Wfs",
        "outputId": "4114c2f4-af51-422a-d433-0e101d20e7f2"
      },
      "id": "F27DrqIp_Wfs",
      "execution_count": null,
      "outputs": [
        {
          "output_type": "stream",
          "name": "stdout",
          "text": [
            "Mounted at /content/drive\n"
          ]
        }
      ]
    },
    {
      "cell_type": "code",
      "execution_count": null,
      "id": "575e3271",
      "metadata": {
        "id": "575e3271"
      },
      "outputs": [],
      "source": [
        "class SenseCounter:\n",
        "\n",
        "    def __init__(self, text):\n",
        "        self.text = text\n",
        "        self.wn = RuWordNet()\n",
        "\n",
        "\n",
        "    def count_senses(self, product=False):\n",
        "        document = nlp(self.text)\n",
        "        outname = path.replace('.txt', '-lemmatized.txt')\n",
        "        with open(outname, 'w', encoding='utf8') as out:\n",
        "            for token in document:\n",
        "                out.write(token.lemma_.lower())\n",
        "                out.write(' ')\n",
        "        # path_lem = f\"/content/drive/MyDrive/Master's Thesis/data/texts/{text}\"\n",
        "        text_lem = open(outname, encoding='utf-8').read()\n",
        "        dict_senses = {}\n",
        "        tokens = nltk.word_tokenize(text_lem)\n",
        "        for word in tokens:\n",
        "            dict_senses[word] = []\n",
        "            for sense in self.wn.get_senses(word):\n",
        "                dict_senses[word].append(sense.synset)\n",
        "        len_tokens = len(tokens)\n",
        "        sense_amount = {}\n",
        "        for key, val in dict_senses.items():\n",
        "            sense_amount[key] = len(val)\n",
        "        only_multiples = {}\n",
        "        for key, val in sense_amount.items():\n",
        "            if val > 1:\n",
        "                only_multiples[key] = val\n",
        "        multiple_words_amount = len(only_multiples)\n",
        "        values = []\n",
        "        for key, val in only_multiples.items():\n",
        "            values.append(val)\n",
        "        prod = math.prod(values)\n",
        "        if product==False:\n",
        "            print (multiple_words_amount/len_tokens)\n",
        "        else:\n",
        "            print(math.log10(prod // len_tokens))\n",
        ""
      ]
    },
    {
      "cell_type": "code",
      "execution_count": null,
      "id": "e82357e5",
      "metadata": {
        "id": "e82357e5"
      },
      "outputs": [],
      "source": [
        "for file in list_of_files:\n",
        "  path = f\"/content/drive/MyDrive/Thesis/data/texts/{file}\"\n",
        "  # path = \"/content/drive/MyDrive/Thesis/data/texts/Tbook(M)_R_R_05_05_ByKi_0_A_0_2015_80486.txt\"\n",
        "  text = open(path, encoding='utf-8').read()\n",
        "  init_class = SenseCounter(text)\n",
        "  init_class.count_senses(product=True)\n",
        "  init_class.count_senses(product=False)"
      ]
    },
    {
      "cell_type": "code",
      "source": [
        "import csv\n",
        "\n",
        "fieldnames = ['filename', 'product_senses', 'non_product_senses']\n",
        "\n",
        "\n",
        "with open('output.csv', mode='w', newline='') as csv_file:\n",
        "    writer = csv.DictWriter(csv_file, fieldnames=fieldnames)\n",
        "    writer.writeheader()\n",
        "\n",
        "    for file in list_of_files:\n",
        "        path = f\"/content/drive/MyDrive/Thesis/data/texts/{file}\"\n",
        "        text = open(path, encoding='utf-8').read()\n",
        "        init_class = SenseCounter(text)\n",
        "\n",
        "        total_senses, product_senses, non_product_senses = init_class.count_senses(product=True)\n",
        "        product_senses = product_senses\n",
        "        non_product_senses = non_product_senses\n",
        "\n",
        "\n",
        "        writer.writerow({\n",
        "            'filename': file,\n",
        "            'product_senses': product_senses,\n",
        "            'non_product_senses': non_product_senses\n",
        "        })\n"
      ],
      "metadata": {
        "id": "N8d88y-4UYj6"
      },
      "id": "N8d88y-4UYj6",
      "execution_count": null,
      "outputs": []
    },
    {
      "cell_type": "code",
      "source": [
        "# вычисляем корреляцию (Спирмен)\n",
        "import scipy\n",
        "from scipy.stats import pearsonr\n",
        "from scipy.stats import spearmanr\n",
        "# создаем список значений p1 и p2\n",
        "p1_values = [832.6153120060645, 583.8189778864097, 529.4086577623945, 817.2213327166662, 729.8125588762124, 535.6941972876418, 802.9227066498909, 1282.924638598832, 1398.478758634721, 994.6804807672092, 1119.8927617064169, 431.1153419514539, 1576.107087201725, 650.4705797378731, 954.1029058709332, 914.1365094030497, 710.7946300420651, 439.8386968621376, 1220.2645115536654, 586.5938133761618, 440.531850688736, 719.5653300639751, 1398.4723620615714, 1331.7043574797578, 1106.259726965537, 1412.4002200049047, 1328.5165598981769, 853.3623843498743, 737.1897125407885]\n",
        "\n",
        "p2_values = [0.04791218571534525, 0.040091436609811855, 0.03380747972954016, 0.04426634360001864, 0.0604143316822734, 0.03336880303402363, 0.04179768214895337, 0.04120104155365086, 0.03214480469161078, 0.0550998150694675, 0.0407740044282284, 0.05068478937538908, 0.026601554517331528, 0.052850251751698885, 0.041568921835413344, 0.03951001649339338, 0.043188666279008296, 0.0525130890052356, 0.04381207726524892, 0.05012359764213729, 0.09014232999472852, 0.04612479520146622, 0.03984116005628562, 0.042740757925190026, 0.05595269040811022, 0.030448457242015076, 0.03681024940533666, 0.04950027348217394, 0.04148964579641184]\n",
        "\n",
        "form = [4, 2, 3, 3, 3, 3, 4, 6, 7, 5, 9, 2, 5, 5, 5, 3, 4, 2, 7, 2, 2, 2, 7, 7, 9, 5, 5, 4, 3]\n",
        "\n",
        "corr, p_value = spearmanr(p1_values, form)\n",
        "\n"
      ],
      "metadata": {
        "id": "wWTAy-owpNij"
      },
      "id": "wWTAy-owpNij",
      "execution_count": null,
      "outputs": []
    },
    {
      "cell_type": "code",
      "source": [
        "print(f\"Spearman correlation coefficient: {corr}\")\n",
        "print(f\"P-value: {p_value}\")\n"
      ],
      "metadata": {
        "colab": {
          "base_uri": "https://localhost:8080/"
        },
        "id": "pMaHWucPtLdq",
        "outputId": "49298f58-742e-404d-81bc-6744015b29d6"
      },
      "id": "pMaHWucPtLdq",
      "execution_count": null,
      "outputs": [
        {
          "output_type": "stream",
          "name": "stdout",
          "text": [
            "Spearman correlation coefficient: 0.8247209149869186\n",
            "P-value: 3.7639500996876217e-08\n"
          ]
        }
      ]
    },
    {
      "cell_type": "markdown",
      "source": [
        "Коэффициент корреляции Спирмена равный 0.824 говорит о том, что есть сильная положительная корреляция между значениями классов p1 и p2. Это означает, что если значение класса p1 увеличивается, то вероятность того, что значение класса p2 также увеличивается, высока.\n",
        "\n",
        "P-value: 3.7639500996876217e-08 очень мало, что говорит о том, что результат статистически значимый. Это значит, что с высокой вероятностью результат корреляции Спирмена является реальной связью между значениями классов p1 и p2, а не просто случайностью."
      ],
      "metadata": {
        "id": "1TdxwjBRKHMf"
      },
      "id": "1TdxwjBRKHMf"
    },
    {
      "cell_type": "code",
      "source": [
        "corr, p_value = spearmanr(p2_values, form)"
      ],
      "metadata": {
        "id": "EOeV64YztdED"
      },
      "id": "EOeV64YztdED",
      "execution_count": null,
      "outputs": []
    },
    {
      "cell_type": "code",
      "source": [
        "print(f\"Spearman correlation coefficient: {corr}\")\n",
        "print(f\"P-value: {p_value}\")\n"
      ],
      "metadata": {
        "colab": {
          "base_uri": "https://localhost:8080/"
        },
        "id": "-oN3mfBDtoH8",
        "outputId": "d58b869c-f0b1-4c7c-e25b-243db07a28b3"
      },
      "id": "-oN3mfBDtoH8",
      "execution_count": null,
      "outputs": [
        {
          "output_type": "stream",
          "name": "stdout",
          "text": [
            "Spearman correlation coefficient: -0.26222922296914153\n",
            "P-value: 0.16937355440911941\n"
          ]
        }
      ]
    },
    {
      "cell_type": "markdown",
      "source": [
        "Это значит, что между двумя переменными, которые были рассчитаны на коэффициент Спирмена, есть некоторая отрицательная корреляция (значение коэффициента равно -0.262). Однако, p-value (уровень значимости) равен 0.169, что означает, что мы не можем с уверенностью утверждать, что наблюдаемая корреляция статистически значима."
      ],
      "metadata": {
        "id": "7BXu6otYKI6l"
      },
      "id": "7BXu6otYKI6l"
    },
    {
      "cell_type": "code",
      "source": [
        "import matplotlib.pyplot as plt\n",
        "\n",
        "form = [4, 2, 3, 3, 3, 3, 4, 6, 7, 5, 9, 2, 5, 5, 5, 3, 4, 2, 7, 2, 2, 2, 7, 7, 9, 5, 5, 4, 3]\n",
        "p1 = [832.6153120060645, 583.8189778864097, 529.4086577623945, 817.2213327166662, 729.8125588762124, 535.6941972876418, 802.9227066498909, 1282.924638598832, 1398.478758634721, 994.6804807672092, 1119.8927617064169, 431.1153419514539, 1576.107087201725, 650.4705797378731, 954.1029058709332, 914.1365094030497, 710.7946300420651, 439.8386968621376, 1220.2645115536654, 586.5938133761618, 440.531850688736, 719.5653300639751, 1398.4723620615714, 1331.7043574797578, 1106.259726965537, 1412.4002200049047, 1328.5165598981769, 853.3623843498743, 737.1897125407885]\n",
        "\n",
        "plt.plot(form, p1, 'o')\n",
        "plt.xlabel('Form')\n",
        "plt.ylabel('P1')\n",
        "plt.title('Linear Plot of Form vs P1')\n",
        "plt.show()\n"
      ],
      "metadata": {
        "colab": {
          "base_uri": "https://localhost:8080/",
          "height": 472
        },
        "id": "254jSCM96hPq",
        "outputId": "d2c7c0fd-4387-4219-f5d5-77b9ecb760d8"
      },
      "id": "254jSCM96hPq",
      "execution_count": null,
      "outputs": [
        {
          "output_type": "display_data",
          "data": {
            "text/plain": [
              "<Figure size 640x480 with 1 Axes>"
            ],
            "image/png": "[encoded data removed]"
          },
          "metadata": {}
        }
      ]
    },
    {
      "cell_type": "code",
      "source": [
        "import matplotlib.pyplot as plt\n",
        "\n",
        "form = [4, 2, 3, 3, 3, 3, 4, 6, 7, 5, 9, 2, 5, 5, 5, 3, 4, 2, 7, 2, 2, 2, 7, 7, 9, 5, 5, 4, 3]\n",
        "p1 = [832.6153120060645, 583.8189778864097, 529.4086577623945, 817.2213327166662, 729.8125588762124, 535.6941972876418, 802.9227066498909, 1282.924638598832, 1398.478758634721, 994.6804807672092, 1119.8927617064169, 431.1153419514539, 1576.107087201725, 650.4705797378731, 954.1029058709332, 914.1365094030497, 710.7946300420651, 439.8386968621376, 1220.2645115536654, 586.5938133761618, 440.531850688736, 719.5653300639751, 1398.4723620615714, 1331.7043574797578, 1106.259726965537, 1412.4002200049047, 1328.5165598981769, 853.3623843498743, 737.1897125407885]\n",
        "\n",
        "colors = ['blue', 'orange', 'green', 'red', 'purple', 'brown', 'pink', 'gray', 'olive']\n",
        "\n",
        "plt.figure(figsize=(8, 6))\n",
        "for i in range(len(form)):\n",
        "    plt.scatter(form[i], p1[i], color=colors[form[i] - 2])\n",
        "plt.xlabel('form')\n",
        "plt.ylabel('p1')\n",
        "plt.title('Linear Plot with Different Colors for Each Form Value')\n",
        "plt.show()\n"
      ],
      "metadata": {
        "colab": {
          "base_uri": "https://localhost:8080/",
          "height": 564
        },
        "id": "m2wgKvIy6upt",
        "outputId": "b8b467c4-3798-4f91-f93b-9eb4ad440aed"
      },
      "id": "m2wgKvIy6upt",
      "execution_count": null,
      "outputs": [
        {
          "output_type": "display_data",
          "data": {
            "text/plain": [
              "<Figure size 800x600 with 1 Axes>"
            ],
            "image/png": "[encoded data removed]"
          },
          "metadata": {}
        }
      ]
    }
  ],
  "metadata": {
    "kernelspec": {
      "display_name": "Python 3 (ipykernel)",
      "language": "python",
      "name": "python3"
    },
    "language_info": {
      "codemirror_mode": {
        "name": "ipython",
        "version": 3
      },
      "file_extension": ".py",
      "mimetype": "text/x-python",
      "name": "python",
      "nbconvert_exporter": "python",
      "pygments_lexer": "ipython3",
      "version": "3.9.13"
    },
    "colab": {
      "provenance": []
    }
  },
  "nbformat": 4,
  "nbformat_minor": 5
}